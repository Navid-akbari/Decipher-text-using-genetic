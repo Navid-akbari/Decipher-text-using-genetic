{
 "cells": [
  {
   "cell_type": "markdown",
   "metadata": {},
   "source": [
    "<img src=\"1200px-University_of_Tehran_logo.svg.png\" width=\"100\" style=\"float:left;\"/>\n",
    "\n",
    "<img src=\"fanni.png\" width=\"120\" style=\"float:right;position: relative;top: -25px;\"/>\n",
    "\n",
    "\n",
    "<h1 style=\"float:center;\" align=\"center\">Computer Assignment 2</h1>\n",
    "<h4 style=\"float:center;\" align=\"center\"><b> Navid Akbari ( 810895023 ) </b></h4>\n",
    "\n",
    "<br>\n",
    "\n",
    "The goal of this computer assignment is to get more familiar with the genetic algorithm for searching. This algorithm is used when we have a state explosion problem, and our space is very large. In this assignment, we try to decipher substitution cryptography. If we want to try all possible states, we should check $26!$ states, which is impossible. But with the genetic algorithm, we will solve this problem in a timely manner way."
   ]
  },
  {
   "cell_type": "code",
   "execution_count": 1,
   "metadata": {},
   "outputs": [],
   "source": [
    "import string, time, re, random\n",
    "import numpy as np\n",
    "from operator import itemgetter"
   ]
  },
  {
   "cell_type": "markdown",
   "metadata": {},
   "source": [
    "## Definition of Chromosome\n"
   ]
  },
  {
   "cell_type": "markdown",
   "metadata": {},
   "source": [
    "I define a chromosome as a map from the actual alphabet to the replaced alphabet. I choose this representation because firstly, its more understandable, and secondly, map data structure is more efficient for finding and replacing elements. One example of this:\n",
    "\n",
    "`{'a': 'o', 'b': 'r', 'c': 's', 'd': 'f', 'e': 'w', 'f': 'm', 'g': 'b', 'h': 't', 'i': 'i', 'j': 'z', 'k': 'g', 'l': 'h', 'm': 'k', 'n': 'n', 'o': 'v', 'p': 'e', 'q': 'l', 'r': 'p', 's': 'd', 't': 'j', 'u': 'c', 'v': 'u', 'w': 'y', 'x': 'q', 'y': 'a', 'z': 'x'}`\n"
   ]
  },
  {
   "cell_type": "markdown",
   "metadata": {},
   "source": [
    "## Making Primitive Population"
   ]
  },
  {
   "cell_type": "markdown",
   "metadata": {},
   "source": [
    "At the beginning of the algorithm, I make a primitive population with a size of `POPULATION_SIZE`, which is a constant in top of the code by using `makeRandomChromosome` function. In this function, I make a random chromosome by using `random` function."
   ]
  },
  {
   "cell_type": "markdown",
   "metadata": {},
   "source": [
    "## Cleaning Data"
   ]
  },
  {
   "cell_type": "markdown",
   "metadata": {},
   "source": [
    "For cleaning data, I used `cleanData` function. In this function, I first replace all things except alphabet with space and then split data with space, and finally, I convert a list of words to map to delete the duplicated words. The problem with stop words is their rate of occurrence, so I remove the duplicated words. So now we have a dictionary which we can used it to find the fitness of each Chromosome."
   ]
  },
  {
   "cell_type": "markdown",
   "metadata": {},
   "source": [
    "## Fitness Function"
   ]
  },
  {
   "cell_type": "markdown",
   "metadata": {},
   "source": [
    "For finding the fitness value of each chromosome, I used `fitness` function. In this function, I calculate the deciphered text and then calculate how many words in the deciphered text is in the dictionary. The number of words is the fitness value for each chromosome. Then, I sort them in reverse mode because I want to choose the best of them for the next generation. I will explain it more."
   ]
  },
  {
   "cell_type": "markdown",
   "metadata": {},
   "source": [
    "## Selection"
   ]
  },
  {
   "cell_type": "markdown",
   "metadata": {},
   "source": [
    "I use rank base selection for this project, because of the `FPS` problem in making chromosome bios. Also, I use **ELITISM** selection method. This means I copy 20% of the best chromosomes to the next generation, the remain, 80%, used for crossover and mutation.\n",
    "\n",
    "#### What if we increase the population size in each round?\n",
    "This population increase doesn't help our algorithm because the number of generations is very big, and it makes the population very large and makes the processing time a lot."
   ]
  },
  {
   "cell_type": "markdown",
   "metadata": {},
   "source": [
    "## Crossover"
   ]
  },
  {
   "cell_type": "markdown",
   "metadata": {},
   "source": [
    "For the implementation of crossover, I use the order 1 method. In the `crossover` method, I choose two different points and then copy the values between these points to the offspring and then complete the chromosome. The crossover happens in 80% of the population. I choose the parents based on their rank."
   ]
  },
  {
   "cell_type": "markdown",
   "metadata": {},
   "source": [
    "## Mutation"
   ]
  },
  {
   "cell_type": "markdown",
   "metadata": {},
   "source": [
    "For mutation, the result of the crossover is used for this method. In `mutation` function, I choose a random number between 0 to 5, and base on this number, I swap the mapping of the chromosome.\n",
    "\n",
    "#### What if we just use crossover?\n",
    "If we use just crossover in the genetic algorithm, its very potential to stuck in the local extremum for a long time. So, the mutation is an important part of the genetic algorithm.\n",
    "\n",
    "#### Mutation is more effective or crossover? Which of them lead to more accuracy?\n",
    "Crossover leads to making a new generation. It makes completely new solutions and leads to significant improvement in the fitness scores. But, as I said, using just crossover may lead to stuck in some situations. So, mutation helps to change the current answer a little to make a possibly better generation.\n",
    "\n",
    "#### Why chromosomes get stuck in some situations?\n",
    "Because they stuck in the local extremum.\n",
    "\n",
    "#### How do we solve this problem?\n",
    "I use mutation multiple times. I use a random number between 0 to 5 for swap the genes.\n"
   ]
  },
  {
   "cell_type": "code",
   "execution_count": 2,
   "metadata": {},
   "outputs": [],
   "source": [
    "POPULATION_SIZE = 100\n",
    "ELITISM_RATE = 0.2\n",
    "CROSSOVER_RATE = 0.8\n",
    "\n",
    "class Decoder:\n",
    "    \n",
    "    def __init__(self, encodedText):\n",
    "        self.encodedText = encodedText\n",
    "        self.encodedTextWords = self.cleanData(self.encodedText.lower())\n",
    "        self.dictionary = {}\n",
    "        self.createDictionary()\n",
    "         \n",
    "            \n",
    "    def makeRandomChromosome(self):\n",
    "        chars = set(string.ascii_lowercase)\n",
    "        map = {}\n",
    "        for c in string.ascii_lowercase:\n",
    "            char = random.choice(list(chars))\n",
    "            chars.remove(char)\n",
    "            map[c] = char\n",
    "        return map\n",
    "    \n",
    "    \n",
    "    def decipher(self, key):\n",
    "        decipheredText = ''\n",
    "        for char in self.encodedText:\n",
    "            if not char.islower():\n",
    "                decipheredText += key.get(char.lower(), char).upper()\n",
    "            else:    \n",
    "                decipheredText += key.get(char, char)\n",
    "        return decipheredText\n",
    "    \n",
    "    \n",
    "    def decipherWords(self, key):\n",
    "        decipheredText = list()\n",
    "        for word in self.encodedTextWords:\n",
    "            temp = ''\n",
    "            for char in word:\n",
    "                temp += key.get(char, char)\n",
    "            decipheredText.append(temp)\n",
    "        return decipheredText\n",
    "    \n",
    "    \n",
    "    def fitness(self, chromosome):\n",
    "        decipheredWords = self.decipherWords(chromosome)\n",
    "        \n",
    "        counter = 0\n",
    "        for word in decipheredWords:\n",
    "            if word in self.dictionary:\n",
    "                counter += 1\n",
    "                \n",
    "        return counter\n",
    "    \n",
    "    \n",
    "    def cleanData(self, dataSet):\n",
    "        dataSet = re.sub(r'[^A-Za-z]', ' ', dataSet)\n",
    "        dataSetWords = dataSet.split()\n",
    "        dataSetWords = list(dict.fromkeys(dataSetWords))\n",
    "        return dataSetWords\n",
    "    \n",
    "    \n",
    "    def createDictionary(self):\n",
    "        dataSet = open(\"global_text.txt\").read().lower()\n",
    "        dataSetWords = self.cleanData(dataSet)\n",
    "        \n",
    "        self.dictionary = set(dataSetWords)\n",
    "            \n",
    "    def makeChromosome(self, Chromosome):\n",
    "        map = {}\n",
    "        for c in string.ascii_lowercase:\n",
    "            char = Chromosome[0]\n",
    "            Chromosome.remove(char)\n",
    "            map[c] = char\n",
    "        return map\n",
    "            \n",
    "        \n",
    "    def makeChild(self, first, second):\n",
    "        size = len(first)\n",
    "        point1 = random.randint(1, size - 1)\n",
    "        point2 = random.randint(1, size - 1)\n",
    "        if point2 >= point1:\n",
    "            point2 += 1\n",
    "        else:\n",
    "            point1, point2 = point2, point1\n",
    "        \n",
    "        temp = first[point1:point2]\n",
    "        second = [x for x in second if x not in temp]\n",
    "        newChromosome = second[:point1] + temp + second[point1:]\n",
    "        \n",
    "        return self.makeChromosome(newChromosome)    \n",
    "           \n",
    "        \n",
    "    def crossover(self, father, mother):\n",
    "        fatherValues = list(father.values())\n",
    "        motherValues = list(mother.values())\n",
    "        \n",
    "        firstChild = self.makeChild(fatherValues, motherValues)\n",
    "\n",
    "        return firstChild\n",
    "            \n",
    "        \n",
    "    def calFitnesses(self, population):\n",
    "        populationScores = [[self.fitness(population[i]), i] for i in range(len(population))]\n",
    "        populationScores = sorted(populationScores, key=itemgetter(0), reverse = True)\n",
    "        return populationScores\n",
    "    \n",
    "    \n",
    "    def mutation(self, chromosome):\n",
    "        size = len(list(chromosome.values()))\n",
    "        for i in range(random.randint(0, 5)):\n",
    "            point1 = random.randint(0, size - 1)\n",
    "            point2 = random.randint(0, size - 1)\n",
    "\n",
    "            values = list(chromosome.values())\n",
    "            keys = list(chromosome.keys())\n",
    "            chromosome[keys[point1]], chromosome[keys[point2]] = values[point2], values[point1]\n",
    "\n",
    "        return chromosome\n",
    "    \n",
    "    \n",
    "    def geneticAlgorithm(self):\n",
    "        population = [self.makeRandomChromosome() for i in range(POPULATION_SIZE)]\n",
    "        \n",
    "        sumOfRanks = (len(population) * len(population) + 1)/2\n",
    "        ranksProbabilities = [(i+1)/sumOfRanks for i in range(len(population))]\n",
    "        ranksProbabilities = sorted(ranksProbabilities, reverse = True)\n",
    "       \n",
    "        while True:\n",
    "            populationScores = self.calFitnesses(population)\n",
    "            \n",
    "            if populationScores[0][0] >= len(self.encodedTextWords):\n",
    "                chromosome = population[populationScores[0][1]]\n",
    "                print(\"The answer Chromosome is: \")\n",
    "                print(chromosome , \"\\n\")\n",
    "                \n",
    "                return self.decipher(chromosome)\n",
    "\n",
    "          \n",
    "            newPopulation = []\n",
    "            \n",
    "            newPopulation.extend([population[populationScores[i][1]] for i in range(int(POPULATION_SIZE*ELITISM_RATE))])\n",
    "            \n",
    "            size = int(CROSSOVER_RATE*POPULATION_SIZE) \n",
    "            \n",
    "            for i in range(size):\n",
    "                parent = np.random.choice(population,2 , ranksProbabilities) \n",
    "                offspring = self.crossover(parent[0] , parent[1]) \n",
    "                newPopulation.append(self.mutation(offspring))\n",
    "            \n",
    "            population = newPopulation\n",
    "            \n",
    "            \n",
    "    def decode(self):\n",
    "        return self.geneticAlgorithm()\n",
    "        "
   ]
  },
  {
   "cell_type": "code",
   "execution_count": 3,
   "metadata": {},
   "outputs": [
    {
     "name": "stdout",
     "output_type": "stream",
     "text": [
      "The answer Chromosome is: \n",
      "{'a': 'o', 'b': 'r', 'c': 's', 'd': 'f', 'e': 'w', 'f': 'm', 'g': 'b', 'h': 't', 'i': 'i', 'j': 'z', 'k': 'g', 'l': 'h', 'm': 'k', 'n': 'n', 'o': 'v', 'p': 'e', 'q': 'l', 'r': 'p', 's': 'd', 't': 'j', 'u': 'c', 'v': 'u', 'w': 'y', 'x': 'q', 'y': 'a', 'z': 'x'} \n",
      "\n",
      "Time: 71.19295716285706 seconds \n",
      "\n",
      "The decoded text is: \n",
      "\n",
      "This response originally fell into a bit bucket.  I'm reposting it\n",
      "just so Bill doesn't think I'm ignoring him.\n",
      "\n",
      "In article <C4w5pv.JxD@darkside.osrhe.uoknor.edu> bil@okcforum.osrhe.edu (Bill Conner) writes:\n",
      ">Jim Perry (perry@dsinc.com) wrote:\n",
      ">\n",
      ">[Some stuff about Biblical morality, though Bill's quote of me had little\n",
      "> to do with what he goes on to say]\n",
      "\n",
      "Bill,\n",
      "\n",
      "I'm sorry to have been busy lately and only just be getting around to\n",
      "this.\n",
      "\n",
      "Apparently you have some fundamental confusions about atheism; I think\n",
      "many of these are well addressed in the famous FAQ.  Your generalisms\n",
      "are then misplaced -- atheism needn't imply materialism, or the lack\n",
      "of an absolute moral system.  However, I do tend to materialism and\n",
      "don't believe in absolute morality, so I'll answer your questions.\n",
      "\n",
      ">How then can an atheist judge value? \n",
      "\n",
      "An atheist judges value in the same way that a theist does: according\n",
      "to a personal understanding of morality.  That I don't believe in an\n",
      "absolute one doesn't mean that I don't have one.  I'm just explicit,\n",
      "as in the line of postings you followed up, that when I express\n",
      "judgment on a moral issue I am basing my judgment on my own code\n",
      "rather than claiming that it is in some absolute sense good or bad.\n",
      "My moral code is not particular different from that of others around\n",
      "me, be they Christians, Muslims, or atheists.  So when I say that I\n",
      "object to genocide, I'm not expressing anything particularly out of\n",
      "line with what my society holds.\n",
      "\n",
      "If your were to ask why I think morality exists and has the form it\n",
      "does, my answer would be mechanistic to your taste -- that a moral\n",
      "code is a prerequisite for a functioning society, and that humanity\n",
      "probably evolved morality as we know it as part of the evolution of\n",
      "our ability to exist in large societies, thereby achieving\n",
      "considerable survival advantages.  You'd probably say that God just\n",
      "made the rules.  Neither of us can convince the other, but we share a\n",
      "common understanding about many moral issues.  You think you get it\n",
      "from your religion, I think I get it (and you get it) from early\n",
      "childhood teaching.\n",
      "\n",
      ">That you don't like what God told people to do says nothing about God\n",
      ">or God's commands, it says only that there was an electrical event in your\n",
      ">nervous system that created an emotional state that your mind coupled\n",
      ">with a pre-existing thought-set to form that reaction. \n",
      "\n",
      "I think you've been reading the wrong sort of comic books, but in\n",
      "prying through the gobbledygook I basically agree with what you're\n",
      "saying.  I do believe that my mental reactions to stimuli such as \"God\n",
      "commanded the genocide of the Canaanites\" is mechanistic, but of\n",
      "course I think that's true of you as well.  My reaction has little to\n",
      "do with whether God exists or even with whether I think he does, but\n",
      "if a god existed who commanded genocide, I could not consider him\n",
      "good, which is supposedly an attribute of God.\n",
      "\n",
      ">All of this being so, you have excluded\n",
      ">yourself from any discussion of values, right, wrong, goood, evil,\n",
      ">etc. and cannot participate. Your opinion about the Bible can have no\n",
      ">weight whatsoever.\n",
      "\n",
      "Hmm.  Yes, I think some heavy FAQ-reading would do you some good.  I\n",
      "have as much place discussing values etc. as any other person.  In\n",
      "fact, I can actually accomplish something in such a discussion, by\n",
      "framing the questions in terms of reason: for instance, it is clear\n",
      "that in an environment where neighboring tribes periodically attempt\n",
      "to wipe each other out based on imagined divine commands, then the\n",
      "quality of life will be generally poor, so a system that fosters\n",
      "coexistence is superior, if quality of life is an agreed goal.  An\n",
      "absolutist, on the other hand, can only thump those portions of a\n",
      "Bible they happen to agree with, and say \"this is good\", even if the\n",
      "act in question is unequivocally bad by the standards of everyone in\n",
      "the discussion.  The attempt to define someone or a group of people as\n",
      "\"excluded from discussion\", such that they \"cannot participate\", and\n",
      "their opinions given \"no weight whatsoever\" is the lowest form or\n",
      "reasoning (ad hominem/poisoning the well), and presumably the resort\n",
      "of someone who can't rationally defend their own ideas of right,\n",
      "wrong, and the Bible.\n",
      "-- \n",
      "Jim Perry   perry@dsinc.com   Decision Support, Inc., Matthews NC\n",
      "These are my opinions.  For a nominal fee, they can be yours.\n",
      "\n",
      "-- \n",
      "Jim Perry   perry@dsinc.com   Decision Support, Inc., Matthews NC\n",
      "These are my opinions.  For a nominal fee, they can be yours.\n",
      "\n"
     ]
    }
   ],
   "source": [
    "encodedText = open(\"encoded_text.txt\").read()\n",
    "\n",
    "d = Decoder(encodedText)\n",
    "\n",
    "start = time.time()\n",
    "decodedText = d.decode()\n",
    "end = time.time()\n",
    "\n",
    "print(\"Time: %s seconds\" % (end - start) , \"\\n\")\n",
    "print(\"The decoded text is: \\n\")\n",
    "print(decodedText)\n"
   ]
  }
 ],
 "metadata": {
  "kernelspec": {
   "display_name": "Python 3",
   "language": "python",
   "name": "python3"
  },
  "language_info": {
   "codemirror_mode": {
    "name": "ipython",
    "version": 3
   },
   "file_extension": ".py",
   "mimetype": "text/x-python",
   "name": "python",
   "nbconvert_exporter": "python",
   "pygments_lexer": "ipython3",
   "version": "3.7.4"
  }
 },
 "nbformat": 4,
 "nbformat_minor": 2
}
